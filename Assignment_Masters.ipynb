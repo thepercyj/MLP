{
 "nbformat": 4,
 "nbformat_minor": 0,
 "metadata": {
  "colab": {
   "provenance": []
  },
  "kernelspec": {
   "name": "python3",
   "language": "python",
   "display_name": "Python 3 (ipykernel)"
  },
  "language_info": {
   "name": "python"
  }
 },
 "cells": [
  {
   "cell_type": "markdown",
   "source": [
    "# Preparing Datasets by Merging for Preprocessing"
   ],
   "metadata": {
    "id": "7tm5tWoedGH0"
   }
  },
  {
   "cell_type": "code",
   "source": [
    "import pandas as pd\n",
    "\n",
    "df1 = pd.read_csv(\"content/Consumer prices indicators - FAOSTAT_data_en_2-22-2024.csv\", low_memory=False)\n",
    "df2 = pd.read_csv(\"content/Crops production indicators - FAOSTAT_data_en_2-22-2024.csv\", low_memory=False)\n",
    "df3 = pd.read_csv(\"content/Emissions - FAOSTAT_data_en_2-27-2024.csv\", low_memory=False)\n",
    "df4 = pd.read_csv(\"content/Employment - FAOSTAT_data_en_2-27-2024.csv\", low_memory=False)\n",
    "df5 = pd.read_csv(\"content/Exchange rate - FAOSTAT_data_en_2-22-2024.csv\", low_memory=False)\n",
    "df6 = pd.read_csv(\"content/Fertilizers use - FAOSTAT_data_en_2-27-2024.csv\", low_memory=False)\n",
    "df7 = pd.read_csv(\"content/Food balances indicators - FAOSTAT_data_en_2-22-2024.csv\", low_memory=False)\n",
    "df8 = pd.read_csv(\"content/Food security indicators  - FAOSTAT_data_en_2-22-2024.csv\", low_memory=False)\n",
    "df9 = pd.read_csv(\"content/Food trade indicators - FAOSTAT_data_en_2-22-2024.csv\", low_memory=False)\n",
    "df10 = pd.read_csv(\"content/Foreign direct investment - FAOSTAT_data_en_2-27-2024.csv\", low_memory=False)\n",
    "df11 = pd.read_csv(\"content/Land temperature change - FAOSTAT_data_en_2-27-2024.csv\", low_memory=False)\n",
    "df12 = pd.read_csv(\"content/Land use - FAOSTAT_data_en_2-22-2024.csv\", low_memory=False)\n",
    "df13 = pd.read_csv(\"content/Pesticides use - FAOSTAT_data_en_2-27-2024.csv\", low_memory=False)\n",
    "\n",
    "\n",
    "#     print(f\"DataFrame {i}:\\n\")\n",
    "#     print(data.head(12))  # Show the first 12 rows of each DataFrame\n",
    "#     print(\"\\n\")\n",
    "# df1_new.head(12)\n",
    "# df2_new.head(12)\n",
    "# df3_new.head(12)\n",
    "# df4_new.head(12)\n",
    "# df5_new.head(12)\n",
    "# df6_new.head(12)\n",
    "# df7_new.head(12)\n",
    "# df8_new.head(12)\n",
    "# df9_new.head(12)\n",
    "# df10_new.head(12)\n",
    "# df11_new.head(12)\n",
    "# df12_new.head(12)\n",
    "# df13_new.head(12)"
   ],
   "metadata": {
    "id": "FCDpaefr-CtR",
    "colab": {
     "base_uri": "https://localhost:8080/"
    },
    "outputId": "4bbd717b-0cc4-47d4-b39f-a5cd0348bbed",
    "ExecuteTime": {
     "end_time": "2024-04-11T23:45:43.691305500Z",
     "start_time": "2024-04-11T23:45:41.598535600Z"
    }
   },
   "execution_count": 12,
   "outputs": []
  },
  {
   "cell_type": "code",
   "source": [
    "# List of columns to remove\n",
    "df1_col_remove = ['Domain Code', 'Domain', 'Year Code', 'Item', 'Months', 'Element Code', 'Element', 'Unit', 'Flag', 'Flag Description', 'Note']\n",
    "df2_col_remove = ['Domain Code', 'Domain', 'Year Code', 'Item', 'Element Code', 'Element', 'Unit', 'Flag', 'Flag Description', 'Note']\n",
    "df3_col_remove = ['Domain Code', 'Domain', 'Year Code', 'Item', 'Element', 'Source Code', 'Source', 'Unit', 'Flag', 'Flag Description', 'Note']\n",
    "df4_col_remove = ['Domain Code', 'Domain', 'Year Code', 'Element', 'Sex', 'Sex Code', 'Source Code', 'Source', 'Unit', 'Flag', 'Flag Description', 'Note']\n",
    "df5_col_remove = ['Domain Code', 'Domain', 'ISO Currency Code (FAO)', 'Currency', 'Element Code', 'Year Code', 'Months', 'Element', 'Unit', 'Flag', 'Flag Description']\n",
    "df6_col_remove = ['Domain Code', 'Domain', 'Year Code', 'Item', 'Element', 'Unit', 'Flag', 'Flag Description']\n",
    "df7_col_remove = ['Domain Code', 'Domain', 'Year Code', 'Item', 'Element', 'Unit', 'Flag', 'Flag Description']\n",
    "df8_col_remove = ['Domain Code', 'Domain', 'Year Code', 'Item', 'Element', 'Unit', 'Flag', 'Flag Description', 'Note']\n",
    "df9_col_remove = ['Domain Code', 'Domain', 'Year Code', 'Item', 'Element', 'Unit', 'Flag', 'Flag Description', 'Note']\n",
    "df10_col_remove = ['Domain Code', 'Domain', 'Year Code', 'Item', 'Element', 'Unit', 'Flag', 'Flag Description', 'Note']\n",
    "df11_col_remove = ['Domain Code', 'Domain', 'Year Code', 'Months', 'Element', 'Unit', 'Flag', 'Flag Description']\n",
    "df12_col_remove = ['Domain Code', 'Domain', 'Year Code', 'Item', 'Element', 'Unit', 'Flag', 'Flag Description', 'Note']\n",
    "df13_col_remove = ['Domain Code', 'Domain', 'Year Code', 'Item', 'Element', 'Unit', 'Flag', 'Flag Description', 'Note']\n",
    "\n",
    "\n",
    "# Remove the specified columns\n",
    "df1_new = df1.drop(columns=df1_col_remove)\n",
    "df2_new = df2.drop(columns=df2_col_remove)\n",
    "df3_new = df3.drop(columns=df3_col_remove)\n",
    "df4_new = df4.drop(columns=df4_col_remove)\n",
    "df5_new = df5.drop(columns=df5_col_remove)\n",
    "df6_new = df6.drop(columns=df6_col_remove)\n",
    "df7_new = df7.drop(columns=df7_col_remove)\n",
    "df8_new = df8.drop(columns=df8_col_remove)\n",
    "df9_new = df9.drop(columns=df9_col_remove)\n",
    "df10_new = df10.drop(columns=df10_col_remove)\n",
    "df11_new = df11.drop(columns=df11_col_remove)\n",
    "df12_new = df12.drop(columns=df12_col_remove)\n",
    "df13_new = df13.drop(columns=df13_col_remove)"
   ],
   "metadata": {
    "id": "ogGWYKTqhO42",
    "ExecuteTime": {
     "end_time": "2024-04-11T23:45:43.752430400Z",
     "start_time": "2024-04-11T23:45:43.694812900Z"
    }
   },
   "execution_count": 13,
   "outputs": []
  },
  {
   "cell_type": "code",
   "outputs": [],
   "source": [
    "# Combine all DataFrames into a list\n",
    "data_list = [df1_new, df2_new, df3_new, df4_new, df5_new, df6_new, df7_new, df8_new, df9_new, df10_new, df11_new, df12_new, df13_new]\n",
    "\n",
    "# Specify the common values you want to filter on\n",
    "common_values = ['Afghanistan', 'Pakistan', 'Sri Lanka', 'Bangladesh', 'Bhutan', 'Maldives', 'Nepal', 'India']  # Example common values\n",
    "\n",
    "# Filter data based on common values\n",
    "filtered_data = []\n",
    "\n",
    "for data in data_list:\n",
    "    # Check if the common column contains any of the common values\n",
    "    mask = data[data['Area'].isin(common_values)]\n",
    "    # Apply the mask to filter the data\n",
    "    filtered_data.append(mask)"
   ],
   "metadata": {
    "collapsed": false,
    "ExecuteTime": {
     "end_time": "2024-04-11T23:45:43.815180800Z",
     "start_time": "2024-04-11T23:45:43.768636800Z"
    }
   },
   "execution_count": 14
  },
  {
   "cell_type": "code",
   "outputs": [
    {
     "data": {
      "text/plain": "    Area Code (M49)         Area  Year  Item Code  Months Code  Inflation  \\\n0                 4  Afghanistan  2000      23013         7001  24.356332   \n1                 4  Afghanistan  2000      23013         7001  24.356332   \n2                 4  Afghanistan  2000      23013         7001  24.356332   \n3                 4  Afghanistan  2000      23013         7001  24.356332   \n4                 4  Afghanistan  2000      23013         7001  24.356332   \n..              ...          ...   ...        ...          ...        ...   \n95                4  Afghanistan  2000      23013         7009  30.529086   \n96                4  Afghanistan  2000      23013         7009  30.529086   \n97                4  Afghanistan  2000      23013         7009  30.529086   \n98                4  Afghanistan  2000      23013         7009  30.529086   \n99                4  Afghanistan  2000      23013         7010  28.749616   \n\n   Item Code (CPC)  Crop Yield  \n0            F1717        8063  \n1            F1804       71245  \n2           F17530        3990  \n3            F1738       76730  \n4            F1841        3833  \n..             ...         ...  \n95           F1720      167857  \n96           F1723      177273  \n97           F1729       16378  \n98           F1735      124154  \n99           F1717        8063  \n\n[100 rows x 8 columns]",
      "text/html": "<div>\n<style scoped>\n    .dataframe tbody tr th:only-of-type {\n        vertical-align: middle;\n    }\n\n    .dataframe tbody tr th {\n        vertical-align: top;\n    }\n\n    .dataframe thead th {\n        text-align: right;\n    }\n</style>\n<table border=\"1\" class=\"dataframe\">\n  <thead>\n    <tr style=\"text-align: right;\">\n      <th></th>\n      <th>Area Code (M49)</th>\n      <th>Area</th>\n      <th>Year</th>\n      <th>Item Code</th>\n      <th>Months Code</th>\n      <th>Inflation</th>\n      <th>Item Code (CPC)</th>\n      <th>Crop Yield</th>\n    </tr>\n  </thead>\n  <tbody>\n    <tr>\n      <th>0</th>\n      <td>4</td>\n      <td>Afghanistan</td>\n      <td>2000</td>\n      <td>23013</td>\n      <td>7001</td>\n      <td>24.356332</td>\n      <td>F1717</td>\n      <td>8063</td>\n    </tr>\n    <tr>\n      <th>1</th>\n      <td>4</td>\n      <td>Afghanistan</td>\n      <td>2000</td>\n      <td>23013</td>\n      <td>7001</td>\n      <td>24.356332</td>\n      <td>F1804</td>\n      <td>71245</td>\n    </tr>\n    <tr>\n      <th>2</th>\n      <td>4</td>\n      <td>Afghanistan</td>\n      <td>2000</td>\n      <td>23013</td>\n      <td>7001</td>\n      <td>24.356332</td>\n      <td>F17530</td>\n      <td>3990</td>\n    </tr>\n    <tr>\n      <th>3</th>\n      <td>4</td>\n      <td>Afghanistan</td>\n      <td>2000</td>\n      <td>23013</td>\n      <td>7001</td>\n      <td>24.356332</td>\n      <td>F1738</td>\n      <td>76730</td>\n    </tr>\n    <tr>\n      <th>4</th>\n      <td>4</td>\n      <td>Afghanistan</td>\n      <td>2000</td>\n      <td>23013</td>\n      <td>7001</td>\n      <td>24.356332</td>\n      <td>F1841</td>\n      <td>3833</td>\n    </tr>\n    <tr>\n      <th>...</th>\n      <td>...</td>\n      <td>...</td>\n      <td>...</td>\n      <td>...</td>\n      <td>...</td>\n      <td>...</td>\n      <td>...</td>\n      <td>...</td>\n    </tr>\n    <tr>\n      <th>95</th>\n      <td>4</td>\n      <td>Afghanistan</td>\n      <td>2000</td>\n      <td>23013</td>\n      <td>7009</td>\n      <td>30.529086</td>\n      <td>F1720</td>\n      <td>167857</td>\n    </tr>\n    <tr>\n      <th>96</th>\n      <td>4</td>\n      <td>Afghanistan</td>\n      <td>2000</td>\n      <td>23013</td>\n      <td>7009</td>\n      <td>30.529086</td>\n      <td>F1723</td>\n      <td>177273</td>\n    </tr>\n    <tr>\n      <th>97</th>\n      <td>4</td>\n      <td>Afghanistan</td>\n      <td>2000</td>\n      <td>23013</td>\n      <td>7009</td>\n      <td>30.529086</td>\n      <td>F1729</td>\n      <td>16378</td>\n    </tr>\n    <tr>\n      <th>98</th>\n      <td>4</td>\n      <td>Afghanistan</td>\n      <td>2000</td>\n      <td>23013</td>\n      <td>7009</td>\n      <td>30.529086</td>\n      <td>F1735</td>\n      <td>124154</td>\n    </tr>\n    <tr>\n      <th>99</th>\n      <td>4</td>\n      <td>Afghanistan</td>\n      <td>2000</td>\n      <td>23013</td>\n      <td>7010</td>\n      <td>28.749616</td>\n      <td>F1717</td>\n      <td>8063</td>\n    </tr>\n  </tbody>\n</table>\n<p>100 rows × 8 columns</p>\n</div>"
     },
     "execution_count": 61,
     "metadata": {},
     "output_type": "execute_result"
    }
   ],
   "source": [
    "merged_df = pd.merge(filtered_data[0], filtered_data[1], on=['Year', 'Area', 'Area Code (M49)'], how='inner')\n",
    "\n",
    "merged_df = merged_df.rename(columns={'Value_x': 'Inflation', 'Value_y': 'Crop Yield'})\n",
    "\n",
    "merged_df.head(100)"
   ],
   "metadata": {
    "collapsed": false,
    "ExecuteTime": {
     "end_time": "2024-04-12T00:21:52.571702400Z",
     "start_time": "2024-04-12T00:21:52.528913400Z"
    }
   },
   "execution_count": 61
  },
  {
   "cell_type": "code",
   "outputs": [
    {
     "data": {
      "text/plain": "    Area Code (M49)         Area  Year  Item Code  Months Code  Inflation  \\\n0                 4  Afghanistan  2000      23013         7001  24.356332   \n1                 4  Afghanistan  2000      23013         7001  24.356332   \n2                 4  Afghanistan  2000      23013         7001  24.356332   \n3                 4  Afghanistan  2000      23013         7001  24.356332   \n4                 4  Afghanistan  2000      23013         7001  24.356332   \n..              ...          ...   ...        ...          ...        ...   \n95                4  Afghanistan  2000      23013         7005  25.956912   \n96                4  Afghanistan  2000      23013         7005  25.956912   \n97                4  Afghanistan  2000      23013         7005  25.956912   \n98                4  Afghanistan  2000      23013         7005  25.956912   \n99                4  Afghanistan  2000      23013         7005  25.956912   \n\n    Crop Yield  Emissions Element Code Emissions Item Code Emissions  \n0         8063                   72430               F1712    0.7056  \n1         8063                   72440               F1712   20.8471  \n2        71245                   72430               F1712    0.7056  \n3        71245                   72440               F1712   20.8471  \n4         3990                   72430               F1712    0.7056  \n..         ...                     ...                 ...       ...  \n95       76730                   72440               F1712   20.8471  \n96        3833                   72430               F1712    0.7056  \n97        3833                   72440               F1712   20.8471  \n98        2231                   72430               F1712    0.7056  \n99        2231                   72440               F1712   20.8471  \n\n[100 rows x 10 columns]",
      "text/html": "<div>\n<style scoped>\n    .dataframe tbody tr th:only-of-type {\n        vertical-align: middle;\n    }\n\n    .dataframe tbody tr th {\n        vertical-align: top;\n    }\n\n    .dataframe thead th {\n        text-align: right;\n    }\n</style>\n<table border=\"1\" class=\"dataframe\">\n  <thead>\n    <tr style=\"text-align: right;\">\n      <th></th>\n      <th>Area Code (M49)</th>\n      <th>Area</th>\n      <th>Year</th>\n      <th>Item Code</th>\n      <th>Months Code</th>\n      <th>Inflation</th>\n      <th>Crop Yield</th>\n      <th>Emissions Element Code</th>\n      <th>Emissions Item Code</th>\n      <th>Emissions</th>\n    </tr>\n  </thead>\n  <tbody>\n    <tr>\n      <th>0</th>\n      <td>4</td>\n      <td>Afghanistan</td>\n      <td>2000</td>\n      <td>23013</td>\n      <td>7001</td>\n      <td>24.356332</td>\n      <td>8063</td>\n      <td>72430</td>\n      <td>F1712</td>\n      <td>0.7056</td>\n    </tr>\n    <tr>\n      <th>1</th>\n      <td>4</td>\n      <td>Afghanistan</td>\n      <td>2000</td>\n      <td>23013</td>\n      <td>7001</td>\n      <td>24.356332</td>\n      <td>8063</td>\n      <td>72440</td>\n      <td>F1712</td>\n      <td>20.8471</td>\n    </tr>\n    <tr>\n      <th>2</th>\n      <td>4</td>\n      <td>Afghanistan</td>\n      <td>2000</td>\n      <td>23013</td>\n      <td>7001</td>\n      <td>24.356332</td>\n      <td>71245</td>\n      <td>72430</td>\n      <td>F1712</td>\n      <td>0.7056</td>\n    </tr>\n    <tr>\n      <th>3</th>\n      <td>4</td>\n      <td>Afghanistan</td>\n      <td>2000</td>\n      <td>23013</td>\n      <td>7001</td>\n      <td>24.356332</td>\n      <td>71245</td>\n      <td>72440</td>\n      <td>F1712</td>\n      <td>20.8471</td>\n    </tr>\n    <tr>\n      <th>4</th>\n      <td>4</td>\n      <td>Afghanistan</td>\n      <td>2000</td>\n      <td>23013</td>\n      <td>7001</td>\n      <td>24.356332</td>\n      <td>3990</td>\n      <td>72430</td>\n      <td>F1712</td>\n      <td>0.7056</td>\n    </tr>\n    <tr>\n      <th>...</th>\n      <td>...</td>\n      <td>...</td>\n      <td>...</td>\n      <td>...</td>\n      <td>...</td>\n      <td>...</td>\n      <td>...</td>\n      <td>...</td>\n      <td>...</td>\n      <td>...</td>\n    </tr>\n    <tr>\n      <th>95</th>\n      <td>4</td>\n      <td>Afghanistan</td>\n      <td>2000</td>\n      <td>23013</td>\n      <td>7005</td>\n      <td>25.956912</td>\n      <td>76730</td>\n      <td>72440</td>\n      <td>F1712</td>\n      <td>20.8471</td>\n    </tr>\n    <tr>\n      <th>96</th>\n      <td>4</td>\n      <td>Afghanistan</td>\n      <td>2000</td>\n      <td>23013</td>\n      <td>7005</td>\n      <td>25.956912</td>\n      <td>3833</td>\n      <td>72430</td>\n      <td>F1712</td>\n      <td>0.7056</td>\n    </tr>\n    <tr>\n      <th>97</th>\n      <td>4</td>\n      <td>Afghanistan</td>\n      <td>2000</td>\n      <td>23013</td>\n      <td>7005</td>\n      <td>25.956912</td>\n      <td>3833</td>\n      <td>72440</td>\n      <td>F1712</td>\n      <td>20.8471</td>\n    </tr>\n    <tr>\n      <th>98</th>\n      <td>4</td>\n      <td>Afghanistan</td>\n      <td>2000</td>\n      <td>23013</td>\n      <td>7005</td>\n      <td>25.956912</td>\n      <td>2231</td>\n      <td>72430</td>\n      <td>F1712</td>\n      <td>0.7056</td>\n    </tr>\n    <tr>\n      <th>99</th>\n      <td>4</td>\n      <td>Afghanistan</td>\n      <td>2000</td>\n      <td>23013</td>\n      <td>7005</td>\n      <td>25.956912</td>\n      <td>2231</td>\n      <td>72440</td>\n      <td>F1712</td>\n      <td>20.8471</td>\n    </tr>\n  </tbody>\n</table>\n<p>100 rows × 10 columns</p>\n</div>"
     },
     "execution_count": 62,
     "metadata": {},
     "output_type": "execute_result"
    }
   ],
   "source": [
    "# Convert the 'Item Code (CPC)' column to string type\n",
    "filtered_data[2].loc[:, 'Item Code (CPC)'] = filtered_data[2]['Item Code (CPC)'].astype(str)\n",
    "# Filter 'filtered_data[2]' to include only rows where the 'Item Code (CPC)' column contains 'F1712'\n",
    "total_crop_emissions = filtered_data[2][filtered_data[2]['Item Code (CPC)'].str.contains('F1712')]\n",
    "\n",
    "# Merge with 'merged_df'\n",
    "merged_df = pd.merge(merged_df, total_crop_emissions, on=['Year', 'Area', 'Area Code (M49)'], how='inner', suffixes=('_x', '_y'))\n",
    "\n",
    "# Rename the 'Value' column to 'Emissions'\n",
    "merged_df = merged_df.rename(columns={'Value': 'Emissions', 'Item Code (CPC)_y': 'Emissions Item Code', 'Element Code': 'Emissions Element Code'})\n",
    "\n",
    "# Drop duplicate columns except for the renamed 'Item Code (CPC)' column\n",
    "merged_df = merged_df.drop(columns=['Item Code (CPC)_x'])\n",
    "\n",
    "# Display the first 100 rows\n",
    "merged_df.head(100)"
   ],
   "metadata": {
    "collapsed": false,
    "ExecuteTime": {
     "end_time": "2024-04-12T00:21:54.927767200Z",
     "start_time": "2024-04-12T00:21:54.864505600Z"
    }
   },
   "execution_count": 62
  },
  {
   "cell_type": "code",
   "outputs": [
    {
     "data": {
      "text/plain": "Area Code (M49)        int64\nArea                  object\nYear                   int64\nItem Code              int64\nMonths Code            int64\nInflation            float64\nItem Code (CPC)_x     object\nCrop Yield             int64\nElement Code_x         int64\nItem Code (CPC)_y     object\nEmissions            float64\nElement Code_y         int64\nItem Code (CPC)       object\nEmissions            float64\ndtype: object"
     },
     "execution_count": 33,
     "metadata": {},
     "output_type": "execute_result"
    }
   ],
   "source": [
    "merged_df.shape"
   ],
   "metadata": {
    "collapsed": false,
    "ExecuteTime": {
     "end_time": "2024-04-11T23:57:15.828901100Z",
     "start_time": "2024-04-11T23:57:15.785101200Z"
    }
   },
   "execution_count": 33
  },
  {
   "cell_type": "code",
   "outputs": [],
   "source": [],
   "metadata": {
    "collapsed": false,
    "ExecuteTime": {
     "start_time": "2024-04-11T23:45:43.913142500Z"
    }
   }
  }
 ]
}
