{
 "cells": [
  {
   "cell_type": "markdown",
   "id": "fa02f743db731c57",
   "metadata": {
    "collapsed": false
   },
   "source": [
    "# Importing Libraries\n",
    "\n",
    "Import the necessary libraries for the project such as pandas, numpy, matplotlib, pytorch and sklearn."
   ]
  },
  {
   "cell_type": "code",
   "id": "30862d6a3698f9d1",
   "metadata": {
    "collapsed": false,
    "ExecuteTime": {
     "end_time": "2024-04-23T15:54:40.617818600Z",
     "start_time": "2024-04-23T15:54:34.480275Z"
    }
   },
   "source": [
    "import pandas as pd\n",
    "import numpy as np\n",
    "import matplotlib.pyplot as plt\n",
    "import torch as pyt\n",
    "import sklearn as sk\n",
    "from IPython import display"
   ],
   "outputs": [],
   "execution_count": 1
  },
  {
   "cell_type": "markdown",
   "id": "89c8639551d1c89f",
   "metadata": {
    "collapsed": false
   },
   "source": [
    "# Loading the Data\n",
    "\n",
    "Load the data from the csv file and check for missing values."
   ]
  },
  {
   "cell_type": "code",
   "id": "5cae92aac2cb3e9c",
   "metadata": {
    "collapsed": false,
    "ExecuteTime": {
     "end_time": "2024-04-23T15:54:41.238131100Z",
     "start_time": "2024-04-23T15:54:40.621819700Z"
    }
   },
   "source": [
    "# Reading Consumer prices indicators data\n",
    "consumer_prices_indicators = pd.read_csv('Data/Consumer prices indicators - FAOSTAT_data_en_2-22-2024.csv')\n",
    "print(\"Consumer Prices:\\n\",consumer_prices_indicators.isnull().sum())\n",
    "\n",
    "# Reading Crops production indicators data\n",
    "crops_production_indicators = pd.read_csv('Data/Crops production indicators - FAOSTAT_data_en_2-22-2024.csv')\n",
    "print(\"Crop Production:\\n\", crops_production_indicators.isnull().sum())\n",
    "\n",
    "# Reading Emissions data\n",
    "emissions = pd.read_csv('Data/Emissions - FAOSTAT_data_en_2-27-2024.csv')\n",
    "print(\"Emissions:\\n\", emissions.isnull().sum())\n",
    "\n",
    "# Reading Employment data\n",
    "employment = pd.read_csv('Data/Employment - FAOSTAT_data_en_2-27-2024.csv')\n",
    "print(\"Employment:\\n\", employment.isnull().sum())\n",
    "\n",
    "# Reading Exchange rate data\n",
    "exchange_rate = pd.read_csv('Data/Exchange rate - FAOSTAT_data_en_2-22-2024.csv')\n",
    "print(\"Exchange Rate:\\n\", exchange_rate.isnull().sum())\n",
    "\n",
    "# Reading Fertilizers use data\n",
    "fertilizers_use = pd.read_csv('Data/Fertilizers use - FAOSTAT_data_en_2-27-2024.csv')\n",
    "print(\"Fertilizers use:\\n\", fertilizers_use.isnull().sum())\n",
    "\n",
    "# Reading Food balances indicators data\n",
    "food_balances_indicators = pd.read_csv('Data/Food balances indicators - FAOSTAT_data_en_2-22-2024.csv')\n",
    "print(\"Food Bal:\\n\", food_balances_indicators.isnull().sum())\n",
    "\n",
    "# Reading Food security indicators data\n",
    "food_security_indicators = pd.read_csv('Data/Food security indicators  - FAOSTAT_data_en_2-22-2024.csv')\n",
    "print(\"Food Sec:\\n\", food_security_indicators.isnull().sum())\n",
    "\n",
    "# Reading Food trade indicators data\n",
    "food_trade_indicators = pd.read_csv('Data/Food trade indicators - FAOSTAT_data_en_2-22-2024.csv')\n",
    "print(\"Food Trade:\\n\", food_trade_indicators.isnull().sum())\n",
    "\n",
    "# Reading Foreign direct investment data\n",
    "foreign_direct_investment = pd.read_csv('Data/Foreign direct investment - FAOSTAT_data_en_2-27-2024.csv')\n",
    "print(\"Foreign Invest:\\n\", foreign_direct_investment.isnull().sum())\n",
    "\n",
    "# Reading Land temperature change data\n",
    "land_temperature_change = pd.read_csv('Data/Land temperature change - FAOSTAT_data_en_2-27-2024.csv')\n",
    "print(\"Land T Change:\\n\", land_temperature_change.isnull().sum())\n",
    "\n",
    "# Reading Land use data\n",
    "land_use = pd.read_csv('Data/Land use - FAOSTAT_data_en_2-22-2024.csv', low_memory=False)\n",
    "print(\"Land Use:\\n\", land_use.isnull().sum())\n",
    "\n",
    "# Reading Pesticides use data\n",
    "pesticides_use = pd.read_csv('Data/Pesticides use - FAOSTAT_data_en_2-27-2024.csv')\n",
    "print(\"Pesticides:\\n\", pesticides_use.isnull().sum())"
   ],
   "outputs": [
    {
     "ename": "FileNotFoundError",
     "evalue": "[Errno 2] No such file or directory: 'Data/Consumer prices indicators - FAOSTAT_data_en_2-22-2024.csv'",
     "output_type": "error",
     "traceback": [
      "\u001B[1;31m---------------------------------------------------------------------------\u001B[0m",
      "\u001B[1;31mFileNotFoundError\u001B[0m                         Traceback (most recent call last)",
      "Cell \u001B[1;32mIn[2], line 2\u001B[0m\n\u001B[0;32m      1\u001B[0m \u001B[38;5;66;03m# Reading Consumer prices indicators data\u001B[39;00m\n\u001B[1;32m----> 2\u001B[0m consumer_prices_indicators \u001B[38;5;241m=\u001B[39m \u001B[43mpd\u001B[49m\u001B[38;5;241;43m.\u001B[39;49m\u001B[43mread_csv\u001B[49m\u001B[43m(\u001B[49m\u001B[38;5;124;43m'\u001B[39;49m\u001B[38;5;124;43mData/Consumer prices indicators - FAOSTAT_data_en_2-22-2024.csv\u001B[39;49m\u001B[38;5;124;43m'\u001B[39;49m\u001B[43m)\u001B[49m\n\u001B[0;32m      3\u001B[0m \u001B[38;5;28mprint\u001B[39m(\u001B[38;5;124m\"\u001B[39m\u001B[38;5;124mConsumer Prices:\u001B[39m\u001B[38;5;130;01m\\n\u001B[39;00m\u001B[38;5;124m\"\u001B[39m,consumer_prices_indicators\u001B[38;5;241m.\u001B[39misnull()\u001B[38;5;241m.\u001B[39msum())\n\u001B[0;32m      5\u001B[0m \u001B[38;5;66;03m# Reading Crops production indicators data\u001B[39;00m\n",
      "File \u001B[1;32m~\\MLP\\lib\\site-packages\\pandas\\io\\parsers\\readers.py:1026\u001B[0m, in \u001B[0;36mread_csv\u001B[1;34m(filepath_or_buffer, sep, delimiter, header, names, index_col, usecols, dtype, engine, converters, true_values, false_values, skipinitialspace, skiprows, skipfooter, nrows, na_values, keep_default_na, na_filter, verbose, skip_blank_lines, parse_dates, infer_datetime_format, keep_date_col, date_parser, date_format, dayfirst, cache_dates, iterator, chunksize, compression, thousands, decimal, lineterminator, quotechar, quoting, doublequote, escapechar, comment, encoding, encoding_errors, dialect, on_bad_lines, delim_whitespace, low_memory, memory_map, float_precision, storage_options, dtype_backend)\u001B[0m\n\u001B[0;32m   1013\u001B[0m kwds_defaults \u001B[38;5;241m=\u001B[39m _refine_defaults_read(\n\u001B[0;32m   1014\u001B[0m     dialect,\n\u001B[0;32m   1015\u001B[0m     delimiter,\n\u001B[1;32m   (...)\u001B[0m\n\u001B[0;32m   1022\u001B[0m     dtype_backend\u001B[38;5;241m=\u001B[39mdtype_backend,\n\u001B[0;32m   1023\u001B[0m )\n\u001B[0;32m   1024\u001B[0m kwds\u001B[38;5;241m.\u001B[39mupdate(kwds_defaults)\n\u001B[1;32m-> 1026\u001B[0m \u001B[38;5;28;01mreturn\u001B[39;00m \u001B[43m_read\u001B[49m\u001B[43m(\u001B[49m\u001B[43mfilepath_or_buffer\u001B[49m\u001B[43m,\u001B[49m\u001B[43m \u001B[49m\u001B[43mkwds\u001B[49m\u001B[43m)\u001B[49m\n",
      "File \u001B[1;32m~\\MLP\\lib\\site-packages\\pandas\\io\\parsers\\readers.py:620\u001B[0m, in \u001B[0;36m_read\u001B[1;34m(filepath_or_buffer, kwds)\u001B[0m\n\u001B[0;32m    617\u001B[0m _validate_names(kwds\u001B[38;5;241m.\u001B[39mget(\u001B[38;5;124m\"\u001B[39m\u001B[38;5;124mnames\u001B[39m\u001B[38;5;124m\"\u001B[39m, \u001B[38;5;28;01mNone\u001B[39;00m))\n\u001B[0;32m    619\u001B[0m \u001B[38;5;66;03m# Create the parser.\u001B[39;00m\n\u001B[1;32m--> 620\u001B[0m parser \u001B[38;5;241m=\u001B[39m TextFileReader(filepath_or_buffer, \u001B[38;5;241m*\u001B[39m\u001B[38;5;241m*\u001B[39mkwds)\n\u001B[0;32m    622\u001B[0m \u001B[38;5;28;01mif\u001B[39;00m chunksize \u001B[38;5;129;01mor\u001B[39;00m iterator:\n\u001B[0;32m    623\u001B[0m     \u001B[38;5;28;01mreturn\u001B[39;00m parser\n",
      "File \u001B[1;32m~\\MLP\\lib\\site-packages\\pandas\\io\\parsers\\readers.py:1620\u001B[0m, in \u001B[0;36mTextFileReader.__init__\u001B[1;34m(self, f, engine, **kwds)\u001B[0m\n\u001B[0;32m   1617\u001B[0m     \u001B[38;5;28mself\u001B[39m\u001B[38;5;241m.\u001B[39moptions[\u001B[38;5;124m\"\u001B[39m\u001B[38;5;124mhas_index_names\u001B[39m\u001B[38;5;124m\"\u001B[39m] \u001B[38;5;241m=\u001B[39m kwds[\u001B[38;5;124m\"\u001B[39m\u001B[38;5;124mhas_index_names\u001B[39m\u001B[38;5;124m\"\u001B[39m]\n\u001B[0;32m   1619\u001B[0m \u001B[38;5;28mself\u001B[39m\u001B[38;5;241m.\u001B[39mhandles: IOHandles \u001B[38;5;241m|\u001B[39m \u001B[38;5;28;01mNone\u001B[39;00m \u001B[38;5;241m=\u001B[39m \u001B[38;5;28;01mNone\u001B[39;00m\n\u001B[1;32m-> 1620\u001B[0m \u001B[38;5;28mself\u001B[39m\u001B[38;5;241m.\u001B[39m_engine \u001B[38;5;241m=\u001B[39m \u001B[38;5;28;43mself\u001B[39;49m\u001B[38;5;241;43m.\u001B[39;49m\u001B[43m_make_engine\u001B[49m\u001B[43m(\u001B[49m\u001B[43mf\u001B[49m\u001B[43m,\u001B[49m\u001B[43m \u001B[49m\u001B[38;5;28;43mself\u001B[39;49m\u001B[38;5;241;43m.\u001B[39;49m\u001B[43mengine\u001B[49m\u001B[43m)\u001B[49m\n",
      "File \u001B[1;32m~\\MLP\\lib\\site-packages\\pandas\\io\\parsers\\readers.py:1880\u001B[0m, in \u001B[0;36mTextFileReader._make_engine\u001B[1;34m(self, f, engine)\u001B[0m\n\u001B[0;32m   1878\u001B[0m     \u001B[38;5;28;01mif\u001B[39;00m \u001B[38;5;124m\"\u001B[39m\u001B[38;5;124mb\u001B[39m\u001B[38;5;124m\"\u001B[39m \u001B[38;5;129;01mnot\u001B[39;00m \u001B[38;5;129;01min\u001B[39;00m mode:\n\u001B[0;32m   1879\u001B[0m         mode \u001B[38;5;241m+\u001B[39m\u001B[38;5;241m=\u001B[39m \u001B[38;5;124m\"\u001B[39m\u001B[38;5;124mb\u001B[39m\u001B[38;5;124m\"\u001B[39m\n\u001B[1;32m-> 1880\u001B[0m \u001B[38;5;28mself\u001B[39m\u001B[38;5;241m.\u001B[39mhandles \u001B[38;5;241m=\u001B[39m \u001B[43mget_handle\u001B[49m\u001B[43m(\u001B[49m\n\u001B[0;32m   1881\u001B[0m \u001B[43m    \u001B[49m\u001B[43mf\u001B[49m\u001B[43m,\u001B[49m\n\u001B[0;32m   1882\u001B[0m \u001B[43m    \u001B[49m\u001B[43mmode\u001B[49m\u001B[43m,\u001B[49m\n\u001B[0;32m   1883\u001B[0m \u001B[43m    \u001B[49m\u001B[43mencoding\u001B[49m\u001B[38;5;241;43m=\u001B[39;49m\u001B[38;5;28;43mself\u001B[39;49m\u001B[38;5;241;43m.\u001B[39;49m\u001B[43moptions\u001B[49m\u001B[38;5;241;43m.\u001B[39;49m\u001B[43mget\u001B[49m\u001B[43m(\u001B[49m\u001B[38;5;124;43m\"\u001B[39;49m\u001B[38;5;124;43mencoding\u001B[39;49m\u001B[38;5;124;43m\"\u001B[39;49m\u001B[43m,\u001B[49m\u001B[43m \u001B[49m\u001B[38;5;28;43;01mNone\u001B[39;49;00m\u001B[43m)\u001B[49m\u001B[43m,\u001B[49m\n\u001B[0;32m   1884\u001B[0m \u001B[43m    \u001B[49m\u001B[43mcompression\u001B[49m\u001B[38;5;241;43m=\u001B[39;49m\u001B[38;5;28;43mself\u001B[39;49m\u001B[38;5;241;43m.\u001B[39;49m\u001B[43moptions\u001B[49m\u001B[38;5;241;43m.\u001B[39;49m\u001B[43mget\u001B[49m\u001B[43m(\u001B[49m\u001B[38;5;124;43m\"\u001B[39;49m\u001B[38;5;124;43mcompression\u001B[39;49m\u001B[38;5;124;43m\"\u001B[39;49m\u001B[43m,\u001B[49m\u001B[43m \u001B[49m\u001B[38;5;28;43;01mNone\u001B[39;49;00m\u001B[43m)\u001B[49m\u001B[43m,\u001B[49m\n\u001B[0;32m   1885\u001B[0m \u001B[43m    \u001B[49m\u001B[43mmemory_map\u001B[49m\u001B[38;5;241;43m=\u001B[39;49m\u001B[38;5;28;43mself\u001B[39;49m\u001B[38;5;241;43m.\u001B[39;49m\u001B[43moptions\u001B[49m\u001B[38;5;241;43m.\u001B[39;49m\u001B[43mget\u001B[49m\u001B[43m(\u001B[49m\u001B[38;5;124;43m\"\u001B[39;49m\u001B[38;5;124;43mmemory_map\u001B[39;49m\u001B[38;5;124;43m\"\u001B[39;49m\u001B[43m,\u001B[49m\u001B[43m \u001B[49m\u001B[38;5;28;43;01mFalse\u001B[39;49;00m\u001B[43m)\u001B[49m\u001B[43m,\u001B[49m\n\u001B[0;32m   1886\u001B[0m \u001B[43m    \u001B[49m\u001B[43mis_text\u001B[49m\u001B[38;5;241;43m=\u001B[39;49m\u001B[43mis_text\u001B[49m\u001B[43m,\u001B[49m\n\u001B[0;32m   1887\u001B[0m \u001B[43m    \u001B[49m\u001B[43merrors\u001B[49m\u001B[38;5;241;43m=\u001B[39;49m\u001B[38;5;28;43mself\u001B[39;49m\u001B[38;5;241;43m.\u001B[39;49m\u001B[43moptions\u001B[49m\u001B[38;5;241;43m.\u001B[39;49m\u001B[43mget\u001B[49m\u001B[43m(\u001B[49m\u001B[38;5;124;43m\"\u001B[39;49m\u001B[38;5;124;43mencoding_errors\u001B[39;49m\u001B[38;5;124;43m\"\u001B[39;49m\u001B[43m,\u001B[49m\u001B[43m \u001B[49m\u001B[38;5;124;43m\"\u001B[39;49m\u001B[38;5;124;43mstrict\u001B[39;49m\u001B[38;5;124;43m\"\u001B[39;49m\u001B[43m)\u001B[49m\u001B[43m,\u001B[49m\n\u001B[0;32m   1888\u001B[0m \u001B[43m    \u001B[49m\u001B[43mstorage_options\u001B[49m\u001B[38;5;241;43m=\u001B[39;49m\u001B[38;5;28;43mself\u001B[39;49m\u001B[38;5;241;43m.\u001B[39;49m\u001B[43moptions\u001B[49m\u001B[38;5;241;43m.\u001B[39;49m\u001B[43mget\u001B[49m\u001B[43m(\u001B[49m\u001B[38;5;124;43m\"\u001B[39;49m\u001B[38;5;124;43mstorage_options\u001B[39;49m\u001B[38;5;124;43m\"\u001B[39;49m\u001B[43m,\u001B[49m\u001B[43m \u001B[49m\u001B[38;5;28;43;01mNone\u001B[39;49;00m\u001B[43m)\u001B[49m\u001B[43m,\u001B[49m\n\u001B[0;32m   1889\u001B[0m \u001B[43m\u001B[49m\u001B[43m)\u001B[49m\n\u001B[0;32m   1890\u001B[0m \u001B[38;5;28;01massert\u001B[39;00m \u001B[38;5;28mself\u001B[39m\u001B[38;5;241m.\u001B[39mhandles \u001B[38;5;129;01mis\u001B[39;00m \u001B[38;5;129;01mnot\u001B[39;00m \u001B[38;5;28;01mNone\u001B[39;00m\n\u001B[0;32m   1891\u001B[0m f \u001B[38;5;241m=\u001B[39m \u001B[38;5;28mself\u001B[39m\u001B[38;5;241m.\u001B[39mhandles\u001B[38;5;241m.\u001B[39mhandle\n",
      "File \u001B[1;32m~\\MLP\\lib\\site-packages\\pandas\\io\\common.py:873\u001B[0m, in \u001B[0;36mget_handle\u001B[1;34m(path_or_buf, mode, encoding, compression, memory_map, is_text, errors, storage_options)\u001B[0m\n\u001B[0;32m    868\u001B[0m \u001B[38;5;28;01melif\u001B[39;00m \u001B[38;5;28misinstance\u001B[39m(handle, \u001B[38;5;28mstr\u001B[39m):\n\u001B[0;32m    869\u001B[0m     \u001B[38;5;66;03m# Check whether the filename is to be opened in binary mode.\u001B[39;00m\n\u001B[0;32m    870\u001B[0m     \u001B[38;5;66;03m# Binary mode does not support 'encoding' and 'newline'.\u001B[39;00m\n\u001B[0;32m    871\u001B[0m     \u001B[38;5;28;01mif\u001B[39;00m ioargs\u001B[38;5;241m.\u001B[39mencoding \u001B[38;5;129;01mand\u001B[39;00m \u001B[38;5;124m\"\u001B[39m\u001B[38;5;124mb\u001B[39m\u001B[38;5;124m\"\u001B[39m \u001B[38;5;129;01mnot\u001B[39;00m \u001B[38;5;129;01min\u001B[39;00m ioargs\u001B[38;5;241m.\u001B[39mmode:\n\u001B[0;32m    872\u001B[0m         \u001B[38;5;66;03m# Encoding\u001B[39;00m\n\u001B[1;32m--> 873\u001B[0m         handle \u001B[38;5;241m=\u001B[39m \u001B[38;5;28;43mopen\u001B[39;49m\u001B[43m(\u001B[49m\n\u001B[0;32m    874\u001B[0m \u001B[43m            \u001B[49m\u001B[43mhandle\u001B[49m\u001B[43m,\u001B[49m\n\u001B[0;32m    875\u001B[0m \u001B[43m            \u001B[49m\u001B[43mioargs\u001B[49m\u001B[38;5;241;43m.\u001B[39;49m\u001B[43mmode\u001B[49m\u001B[43m,\u001B[49m\n\u001B[0;32m    876\u001B[0m \u001B[43m            \u001B[49m\u001B[43mencoding\u001B[49m\u001B[38;5;241;43m=\u001B[39;49m\u001B[43mioargs\u001B[49m\u001B[38;5;241;43m.\u001B[39;49m\u001B[43mencoding\u001B[49m\u001B[43m,\u001B[49m\n\u001B[0;32m    877\u001B[0m \u001B[43m            \u001B[49m\u001B[43merrors\u001B[49m\u001B[38;5;241;43m=\u001B[39;49m\u001B[43merrors\u001B[49m\u001B[43m,\u001B[49m\n\u001B[0;32m    878\u001B[0m \u001B[43m            \u001B[49m\u001B[43mnewline\u001B[49m\u001B[38;5;241;43m=\u001B[39;49m\u001B[38;5;124;43m\"\u001B[39;49m\u001B[38;5;124;43m\"\u001B[39;49m\u001B[43m,\u001B[49m\n\u001B[0;32m    879\u001B[0m \u001B[43m        \u001B[49m\u001B[43m)\u001B[49m\n\u001B[0;32m    880\u001B[0m     \u001B[38;5;28;01melse\u001B[39;00m:\n\u001B[0;32m    881\u001B[0m         \u001B[38;5;66;03m# Binary mode\u001B[39;00m\n\u001B[0;32m    882\u001B[0m         handle \u001B[38;5;241m=\u001B[39m \u001B[38;5;28mopen\u001B[39m(handle, ioargs\u001B[38;5;241m.\u001B[39mmode)\n",
      "\u001B[1;31mFileNotFoundError\u001B[0m: [Errno 2] No such file or directory: 'Data/Consumer prices indicators - FAOSTAT_data_en_2-22-2024.csv'"
     ]
    }
   ],
   "execution_count": 2
  },
  {
   "cell_type": "markdown",
   "id": "580dc514d7d90914",
   "metadata": {
    "collapsed": false
   },
   "source": [
    "# Preprocessing the Data\n",
    "\n",
    "Preprocess the data by removing the columns that are not needed, separating datasets into manageable categories, filling or removing the missing values and normalizing the data."
   ]
  },
  {
   "cell_type": "code",
   "id": "a6032c8a116429e4",
   "metadata": {
    "collapsed": false,
    "ExecuteTime": {
     "start_time": "2024-04-23T15:54:41.237132600Z"
    }
   },
   "source": [
    "# Drop 'Note' and columns from Consumer prices indicators data\n",
    "consumer_prices_indicators = consumer_prices_indicators.drop(columns=['Note'])\n",
    "# Separate inflation data from indices data\n",
    "inflation_data = consumer_prices_indicators[consumer_prices_indicators['Unit'] == '%']\n",
    "indices_data = consumer_prices_indicators[consumer_prices_indicators['Unit'].isnull()]\n",
    "# Removes Unit column from indices data\n",
    "indices_data = indices_data.drop(columns=['Unit'])\n",
    "\n",
    "# Drop 'Note' column from Emissions data\n",
    "emissions.drop(columns=['Note'], inplace=True)\n",
    "# Split emissions into total n20 and total ch4\n",
    "total_n20 = emissions[emissions['Element'] == 'Crops total (Emissions N2O)']\n",
    "total_ch4 = emissions[emissions['Element'] == 'Crops total (Emissions CH4)']\n",
    "\n",
    "# Drop 'Note' column from Employment data\n",
    "employment.drop(columns=['Note'], inplace=True)\n",
    "# Separates ILO estimates from mean working hours data\n",
    "ilo_estimates = employment[employment['Indicator Code'] == 21144]\n",
    "mean_working_hours = employment[employment['Indicator Code'] == 21150]\n",
    "\n",
    "# Drop 'Unit' column from Exchange rate data\n",
    "exchange_rate.drop(columns=['Unit'], inplace=True)\n",
    "# Average exchange rate by year and country\n",
    "exchange_rate = exchange_rate.groupby(['Year', 'Area', 'Area Code (M49)'])['Value'].mean().reset_index()\n",
    "\n",
    "\n",
    "# Drop 'Note' column from Fertilizers use data\n",
    "food_security_indicators.drop(columns=['Note'], inplace=True)\n",
    "\n",
    "# Drop 'Note' column from Food trade indicators data\n",
    "food_trade_indicators.drop(columns=['Note'], inplace=True)\n",
    "\n",
    "# Drop 'Note' column from crop production indicators data\n",
    "crops_production_indicators.drop(columns=['Note'], inplace=True)\n",
    "\n",
    "# Drop 'Note' column from Land use data\n",
    "land_use.drop(columns=['Note'], inplace=True)\n",
    "# Creating individual DataFrames for each land area type\n",
    "country_area = land_use[land_use['Item'] == 'Country area']\n",
    "agricultural_land_df = land_use[land_use['Item'] == 'Agricultural land']\n",
    "cropland_df = land_use[land_use['Item'] == 'Cropland']\n",
    "arable_land_df = land_use[land_use['Item'] == 'Arable land']\n",
    "temporary_crops_df = land_use[land_use['Item'] == 'Temporary crops']\n",
    "\n",
    "# Drop 'Note' column from Pesticides use data\n",
    "pesticides_use.drop(columns=['Note'], inplace=True)\n",
    "# Gets total pesticides use data\n",
    "total_pesticides_use = pesticides_use[(pesticides_use['Item'] == 'Pesticides (total)') & (pesticides_use['Element'] == 'Agricultural Use')]\n",
    "\n",
    "# Split land_temperature_change data into two separate datasets, land_temperature_change and standard_deviation\n",
    "land_temperature_change = land_temperature_change[land_temperature_change['Element'] == 'Temperature change']\n",
    "standard_deviation = land_temperature_change[land_temperature_change['Element'] == 'Standard Deviation']\n",
    "\n"
   ],
   "outputs": [],
   "execution_count": null
  },
  {
   "cell_type": "code",
   "id": "a124412cf46417b1",
   "metadata": {
    "collapsed": false,
    "ExecuteTime": {
     "end_time": "2024-04-23T15:54:41.241129200Z",
     "start_time": "2024-04-23T15:54:41.240133200Z"
    }
   },
   "source": [
    "# Impute missing values in land_temperature_change using mean of the country\n",
    "land_temperature_change_cleaned = land_temperature_change# Impute missing values with the mean of their respective country\n",
    "land_temperature_change_cleaned['Value'] = land_temperature_change_cleaned.groupby('Area')['Value'].transform(lambda x: x.fillna(x.mean()))\n",
    "\n",
    "# Compute the overall mean\n",
    "overall_mean = land_temperature_change_cleaned['Value'].mean()\n",
    "# Impute remaining missing values with the overall mean\n",
    "land_temperature_change_cleaned['Value'] = land_temperature_change_cleaned['Value'].fillna(overall_mean)\n",
    "\n",
    "# Converts back to a dataframe and removes the 'Flag' and 'Flag Description' columns as they are not needed\n",
    "land_temperature_change_cleaned = pd.DataFrame(land_temperature_change_cleaned)\n",
    "land_temperature_change_cleaned.drop(columns=['Flag', 'Flag Description'], inplace=True)\n",
    "\n",
    "# Gets meteorological year values from month columns\n",
    "land_temperature_change_cleaned = land_temperature_change_cleaned[land_temperature_change_cleaned['Months'] == 'Meteorological year']"
   ],
   "outputs": [],
   "execution_count": null
  },
  {
   "metadata": {},
   "cell_type": "markdown",
   "source": [
    "## Standardising Items\n",
    "Combine different items so that they match across datasets, combining them to make a harmonised dataset.\n",
    "\n",
    "*Cereals and Grains:*\n",
    "Crops Production: \"Cereals, primary\"\n",
    "Food Balances: \"Cereals - Excluding Beer\"\n",
    "Food Trade: \"Cereals and Preparations\"\n",
    "\n",
    "*Roots and Tubers:*\n",
    "Crops Production: \"Roots and Tubers, Total\"\n",
    "Food Balances: \"Starchy Roots\"\n",
    "\n",
    "*Sugar and Sweeteners:*\n",
    "Crops Production: \"Sugar Crops Primary\"\n",
    "Food Balances: \"Sugar Crops\", \"Sugar & Sweeteners\"\n",
    "Food Trade: \"Sugar and Honey\"\n",
    "\n",
    "*Pulses and Legumes:*\n",
    "Crops Production: \"Pulses, Total\"\n",
    "Food Balances: \"Pulses\"\n",
    "\n",
    "*Nuts and Oilseeds:*\n",
    "Crops Production: \"Oilcrops, Cake Equivalent\", \"Oilcrops, Oil Equivalent\", \"Treenuts, Total\"\n",
    "Food Balances: \"Oilcrops\", \"Treenuts\"\n",
    "Food Trade: \"Fats and Oils (excluding Butter)\"\n",
    "\n",
    "*Fruits and Vegetables:*\n",
    "Crops Production: \"Citrus Fruit, Total\", \"Fruit Primary\", \"Vegetables Primary\"\n",
    "Food Balances: \"Vegetables\", \"Fruits - Excluding Wine\"\n",
    "Food Trade: \"Fruit and Vegetables\"\n",
    "\n",
    "*Beverages and Alcoholic Products:*\n",
    "Food Balances: \"Alcoholic Beverages\"\n",
    "Food Trade: \"Alcoholic Beverages\", \"Non-alcoholic Beverages\"\n",
    "\n",
    "*Animal Products:*\n",
    "Food Balances: \"Meat\", \"Eggs\", \"Milk - Excluding Butter\"\n",
    "Food Trade: \"Meat and Meat Preparations\", \"Dairy Products and Eggs\"\n",
    "\n",
    "*Miscellaneous:*\n",
    "Food Balances: \"Stimulants\", \"Spices\", \"Fish, Seafood\"\n",
    "Food Trade: \"Other food\", \"Non-food\", \"Non-edible Fats and Oils\", \"Tobacco\"\n",
    "\n",
    "*Fibre and Textile Crops:*\n",
    "Crops Production: \"Fibre Crops, Fibre Equivalent\""
   ],
   "id": "dc8798cfcc4dab90"
  },
  {
   "metadata": {
    "ExecuteTime": {
     "start_time": "2024-04-23T15:54:41.244133400Z"
    }
   },
   "cell_type": "code",
   "source": [
    "# Views the unique items in the 'Item' column of the datasets\n",
    "print(\"Unique Items in Crops Production Indicators:\\n\", crops_production_indicators['Item'].unique())\n",
    "print(\"Unique Items in Food Balances Indicators:\\n\", food_balances_indicators['Item'].unique())\n",
    "print(\"Unique Items in Food Trade Indicators:\\n\", food_trade_indicators['Item'].unique())\n",
    "\n",
    "# Create dictionaries to map the items to their respective categories\n",
    "crops_production_mapping = {\n",
    "    'Cereals, primary': 'Cereals and Grains',\n",
    "    'Roots and Tubers, Total': 'Roots and Tubers',\n",
    "    'Sugar Crops Primary': 'Sugar and Sweeteners',\n",
    "    'Pulses, Total': 'Pulses and Legumes',\n",
    "    'Oilcrops, Cake Equivalent': 'Nuts and Oilseeds',\n",
    "    'Oilcrops, Oil Equivalent': 'Nuts and Oilseeds',\n",
    "    'Treenuts, Total': 'Nuts and Oilseeds',\n",
    "    'Vegetables Primary': 'Fruits and Vegetables',\n",
    "    'Citrus Fruit, Total': 'Fruits and Vegetables',\n",
    "    'Fruit Primary': 'Fruits and Vegetables',\n",
    "    'Fibre Crops, Fibre Equivalent': 'Fibre and Textile Crops',\n",
    "}\n",
    "\n",
    "food_balances_mapping = {\n",
    "    'Cereals - Excluding Beer': 'Cereals and Grains',\n",
    "    'Starchy Roots': 'Roots and Tubers',\n",
    "    'Sugar Crops': 'Sugar and Sweeteners',\n",
    "    'Sugar & Sweeteners': 'Sugar and Sweeteners',\n",
    "    'Pulses': 'Pulses and Legumes',\n",
    "    'Treenuts': 'Nuts and Oilseeds',\n",
    "    'Oilcrops': 'Nuts and Oilseeds',\n",
    "    'Vegetable Oils': 'Nuts and Oilseeds',\n",
    "    'Vegetables': 'Fruits and Vegetables',\n",
    "    'Fruits - Excluding Wine': 'Fruits and Vegetables',\n",
    "    'Alcoholic Beverages': 'Beverages and Alcoholic Products',\n",
    "    'Meat': 'Animal Products',\n",
    "    'Eggs': 'Animal Products',\n",
    "    'Milk - Excluding Butter': 'Animal Products',\n",
    "    'Fish, Seafood': 'Miscellaneous',\n",
    "    'Stimulants': 'Miscellaneous',\n",
    "    'Spices': 'Miscellaneous',\n",
    "}\n",
    "\n",
    "food_trade_mapping = {\n",
    "    'Cereals and Preparations': 'Cereals and Grains',\n",
    "    'Fats and Oils (excluding Butter)': 'Nuts and Oilseeds',\n",
    "    'Meat and Meat Preparations': 'Animal Products',\n",
    "    'Sugar and Honey': 'Sugar and Sweeteners',\n",
    "    'Fruit and Vegetables': 'Fruits and Vegetables',\n",
    "    'Dairy Products and Eggs': 'Animal Products',\n",
    "    'Alcoholic Beverages': 'Beverages and Alcoholic Products',\n",
    "    'Non-alcoholic Beverages': 'Beverages and Alcoholic Products',\n",
    "    'Other food': 'Miscellaneous',\n",
    "    'Non-food': 'Miscellaneous',\n",
    "    'Non-edible Fats and Oils': 'Miscellaneous',\n",
    "    'Tobacco': 'Miscellaneous',\n",
    "}\n",
    "\n",
    "# Adds a Harmonised Item column to the datasets with the mapped items\n",
    "crops_production_indicators['Harmonised Item'] = crops_production_indicators['Item'].map(crops_production_mapping)\n",
    "food_balances_indicators['Harmonised Item'] = food_balances_indicators['Item'].map(food_balances_mapping)\n",
    "food_trade_indicators['Harmonised Item'] = food_trade_indicators['Item'].map(food_trade_mapping)\n",
    "\n",
    "# Views the unique items in the 'Harmonised Item' column of the datasets to check if the mapping was successful\n",
    "print(\"Unique Harmonised Items in Crops Production Indicators:\\n\", crops_production_indicators['Harmonised Item'].unique()\n",
    ")\n",
    "print(\"Unique Harmonised Items in Food Balances Indicators:\\n\", food_balances_indicators['Harmonised Item'].unique())\n",
    "print(\"Unique Harmonised Items in Food Trade Indicators:\\n\", food_trade_indicators['Harmonised Item'].unique())"
   ],
   "id": "bb2d7c963b5141ce",
   "outputs": [],
   "execution_count": null
  },
  {
   "metadata": {},
   "cell_type": "markdown",
   "source": [
    "## Removing Outliers\n",
    "\n",
    "Remove the outliers from the data by using the Z-score method."
   ],
   "id": "da2229b46d05f690"
  },
  {
   "metadata": {
    "ExecuteTime": {
     "end_time": "2024-04-23T15:54:41.261128500Z",
     "start_time": "2024-04-23T15:54:41.249138Z"
    }
   },
   "cell_type": "code",
   "source": [
    "# Split food trade indicators data into food trade imports and food trade exports\n",
    "food_trade_imports = food_trade_indicators[food_trade_indicators['Element'] == 'Import Value']\n",
    "food_trade_exports = food_trade_indicators[food_trade_indicators['Element'] == 'Export Value']\n",
    "\n",
    "# Split food balances indicators data into imports and exports\n",
    "food_balances_imports = food_balances_indicators[food_balances_indicators['Element'] == 'Import Quantity']\n",
    "food_balances_exports = food_balances_indicators[food_balances_indicators['Element'] == 'Export Quantity']\n",
    "\n",
    "# Define a function to remove outliers using the Z-score method\n",
    "from scipy import stats\n",
    "def remove_outliers_zscore(df, features, threshold=3):\n",
    "    \"\"\"\n",
    "    Remove outliers using the Z-score method.\n",
    "\n",
    "    Args:\n",
    "    df (DataFrame): The input dataframe from which to remove outliers.\n",
    "    features (list): A list of column names to check for outliers.\n",
    "    threshold (float): The Z-score threshold to identify an outlier.\n",
    "\n",
    "    Returns:\n",
    "    DataFrame: A dataframe with outliers removed.\n",
    "    \"\"\"\n",
    "    df_filtered = df.copy()\n",
    "    for feature in features:\n",
    "        z_scores = stats.zscore(df_filtered[feature])\n",
    "        abs_z_scores = np.abs(z_scores)\n",
    "        filtered_entries = (abs_z_scores < threshold)\n",
    "        df_filtered = df_filtered[filtered_entries]\n",
    "    \n",
    "    return df_filtered\n",
    "\n",
    "# Define the datasets and columns to remove outliers from\n",
    "datasets = {\n",
    "    'consumer_prices_indicators': {'columns': ['Value'], 'threshold': 3},\n",
    "    'crops_production_indicators': {'columns': ['Value'], 'threshold': 3},\n",
    "    'total_n20': {'columns': ['Value'], 'threshold': 3},\n",
    "    'total_ch4': {'columns': ['Value'], 'threshold': 3},\n",
    "    'employment': {'columns': ['Value'], 'threshold': 3},\n",
    "    'exchange_rate': {'columns': ['Value'], 'threshold': 3},\n",
    "    'fertilizers_use': {'columns': ['Value'], 'threshold': 3},\n",
    "    'food_balances_imports': {'columns': ['Value'], 'threshold': 3},\n",
    "    'food_balances_exports': {'columns': ['Value'], 'threshold': 3},\n",
    "    'food_security_indicators': {'columns': ['Value'], 'threshold': 3},\n",
    "    'food_trade_imports': {'columns': ['Value'], 'threshold': 3},\n",
    "    'food_trade_exports': {'columns': ['Value'], 'threshold': 3},\n",
    "    'foreign_direct_investment': {'columns': ['Value'], 'threshold': 3},\n",
    "    'land_temperature_change_cleaned': {'columns': ['Value'], 'threshold': 3},\n",
    "    'country_area': {'columns': ['Value'], 'threshold': 3},\n",
    "    'cropland_df': {'columns': ['Value'], 'threshold': 3},\n",
    "    'agricultural_land_df': {'columns': ['Value'], 'threshold': 3},\n",
    "    'arable_land_df': {'columns': ['Value'], 'threshold': 3},\n",
    "    'temporary_crops_df': {'columns': ['Value'], 'threshold': 3},\n",
    "    'total_pesticides_use': {'columns': ['Value'], 'threshold': 2}\n",
    "}\n",
    "\n",
    "for dataset_name, info in datasets.items():\n",
    "    columns = info['columns']\n",
    "    zscore_threshold = info['threshold']\n",
    "    exec(f\"{dataset_name} = remove_outliers_zscore({dataset_name}, columns, threshold=zscore_threshold)\")"
   ],
   "id": "4efe1bafd1266368",
   "outputs": [],
   "execution_count": null
  },
  {
   "metadata": {},
   "cell_type": "markdown",
   "source": [
    "## Merging Datasets\n",
    "\n",
    "Merge datasets together based on common columns of year and area."
   ],
   "id": "b4052b1a806f5bb3"
  },
  {
   "metadata": {
    "ExecuteTime": {
     "start_time": "2024-04-23T15:54:41.253132600Z"
    }
   },
   "cell_type": "code",
   "source": [
    "# Merge Food Trade Exports and Food Balances Exports datasets and clean the merged dataset\n",
    "merged_df = pd.merge(food_trade_exports, food_balances_exports, how='inner', on=['Harmonised Item', 'Year', 'Area'])\n",
    "merged_df = merged_df.rename(columns={'Value_x': 'Export Values (in 1000 USD)', 'Value_y': 'Export Quantities (in 1000t)'})\n",
    "merged_df = merged_df.drop(columns = ['Domain Code_x', 'Domain Code_y', 'Domain_x', 'Domain_y', 'Area Code (M49)_x', 'Area Code (M49)_y', 'Item Code (FBS)', 'Item Code (CPC)', 'Element Code_x', 'Element Code_y', 'Unit_x', 'Unit_y', 'Flag_x', 'Flag_y', 'Flag Description_x', 'Flag Description_y', 'Year Code_x', 'Year Code_y', 'Element_x', 'Element_y', 'Item_x', 'Item_y'])\n",
    "\n",
    "# Merge with crops production indicators and clean the merged dataset\n",
    "merged_df = pd.merge(merged_df, crops_production_indicators, how='inner', on=['Harmonised Item', 'Year', 'Area'])\n",
    "merged_df = merged_df.rename(columns={'Value': 'Crop Yield (in 100 g/ha)'})\n",
    "merged_df = merged_df.drop(columns = ['Domain Code', 'Domain', 'Area Code (M49)', 'Item Code (CPC)', 'Element Code', 'Unit', 'Flag', 'Flag Description', 'Year Code', 'Element'])\n",
    "\n",
    "# Merge with land temperature change and clean the merged dataset\n",
    "merged_df = pd.merge(merged_df, land_temperature_change_cleaned, how='inner', on=['Year', 'Area'])\n",
    "merged_df = merged_df.rename(columns={'Value': 'Temperature Change (in °C)'})\n",
    "merged_df = merged_df.drop(columns = ['Domain Code', 'Domain', 'Element Code', 'Unit', 'Year Code', 'Element', 'Months', 'Months Code'])\n",
    "\n",
    "# Merge with total pesticides use and clean the merged dataset\n",
    "merged_df = pd.merge(merged_df, total_pesticides_use, how='inner', on=['Year', 'Area'])\n",
    "merged_df = merged_df.rename(columns={'Value': 'Total Pesticides Use (in tonnes)', 'Area Code (M49)_y': 'Area Code (M49)'})\n",
    "merged_df = merged_df.drop(columns = ['Domain Code', 'Domain', 'Element Code', 'Unit', 'Flag', 'Flag Description', 'Year Code', 'Element', 'Area Code (M49)_x', 'Item Code', 'Item_y', 'Item_x'])\n",
    "\n",
    "# Merge with emissions and clean the merged dataset\n",
    "merged_df = pd.merge(merged_df, total_n20, how='inner', on=['Year', 'Area', 'Area Code (M49)'])\n",
    "merged_df = pd.merge(merged_df, total_ch4, how='inner', on=['Year', 'Area', 'Area Code (M49)'])\n",
    "merged_df = merged_df.rename(columns={'Value_x': 'Total N2O Emissions (in kt)', 'Value_y': 'Total CH4 Emissions (in kt)'})\n",
    "merged_df = merged_df.drop(columns = ['Domain Code_x', 'Domain_x', 'Element Code_x', 'Unit_x', 'Flag_x', 'Flag Description_x', 'Year Code_x', 'Element_x', 'Domain Code_y', 'Domain_y', 'Element Code_y', 'Unit_y', 'Flag_y', 'Flag Description_y', 'Year Code_y', 'Element_y', 'Item Code (CPC)_y', 'Item Code (CPC)_x', 'Item_x', 'Item_y', 'Source Code_x', 'Source Code_y', 'Source_x', 'Source_y'])\n",
    "\n",
    "# Merge with employment and clean the merged dataset\n",
    "merged_df = pd.merge(merged_df, mean_working_hours, how='inner', on=['Year', 'Area', 'Area Code (M49)'])\n",
    "merged_df = merged_df.rename(columns={'Value': 'Mean Working Hours (in hours)'})\n",
    "merged_df = merged_df.drop(columns = ['Domain Code', 'Domain', 'Sex', 'Sex Code', 'Element', 'Element Code', 'Unit', 'Flag', 'Flag Description', 'Year Code', 'Source Code', 'Source', 'Indicator', 'Indicator Code'])\n",
    "merged_df = pd.merge(merged_df, ilo_estimates, how='inner', on=['Year', 'Area', 'Area Code (M49)'])\n",
    "merged_df = merged_df.rename(columns={'Value': 'ILO Estimates (in 1000 No)'})\n",
    "merged_df = merged_df.drop(columns = ['Element', 'Domain', 'Domain Code', 'Unit', 'Flag', 'Flag Description', 'Year Code', 'Source Code', 'Source', 'Indicator', 'Indicator Code', 'Sex Code', 'Sex', 'Element Code'])\n",
    "\n",
    "# Merge with land use categories and clean the merged dataset\n",
    "merged_df = pd.merge(merged_df, country_area, how='inner', on=['Year', 'Area', 'Area Code (M49)'])\n",
    "merged_df = merged_df.rename(columns={'Value': 'Country Area (in 1000 ha)'})\n",
    "merged_df = merged_df.drop(columns = ['Domain Code', 'Domain', 'Element Code', 'Unit', 'Flag', 'Flag Description', 'Year Code', 'Element', 'Item', 'Item Code'])\n",
    "merged_df = pd.merge(merged_df, agricultural_land_df, how='inner', on=['Year', 'Area', 'Area Code (M49)'])\n",
    "merged_df = merged_df.rename(columns={'Value': 'Agricultural Land (in 1000 ha)'})\n",
    "merged_df = merged_df.drop(columns = ['Domain Code', 'Domain', 'Element Code', 'Unit', 'Flag', 'Flag Description', 'Year Code', 'Element', 'Item', 'Item Code'])\n",
    "merged_df = pd.merge(merged_df, cropland_df, how='inner', on=['Year', 'Area', 'Area Code (M49)'])\n",
    "merged_df = merged_df.rename(columns={'Value': 'Cropland (in 1000 ha)'})\n",
    "merged_df = merged_df.drop(columns = ['Domain Code', 'Domain', 'Element Code', 'Unit', 'Flag', 'Flag Description', 'Year Code', 'Element', 'Item', 'Item Code'])\n",
    "merged_df = pd.merge(merged_df, arable_land_df, how='inner', on=['Year', 'Area', 'Area Code (M49)'])\n",
    "merged_df = merged_df.rename(columns={'Value': 'Arable Land (in 1000 ha)'})\n",
    "merged_df = merged_df.drop(columns = ['Domain Code', 'Domain', 'Element Code', 'Unit', 'Flag', 'Flag Description', 'Year Code', 'Element', 'Item', 'Item Code'])\n",
    "merged_df = pd.merge(merged_df, temporary_crops_df, how='inner', on=['Year', 'Area', 'Area Code (M49)'])\n",
    "merged_df = merged_df.rename(columns={'Value': 'Temporary Crops (in 1000 ha)'})\n",
    "merged_df = merged_df.drop(columns = ['Domain Code', 'Domain', 'Element Code', 'Unit', 'Flag', 'Flag Description', 'Year Code', 'Element', 'Item', 'Item Code'])\n",
    "\n",
    "# Merge with fertilizers use and clean the merged dataset\n",
    "fertilizers_pivot = fertilizers_use.pivot_table(index=['Year', 'Area', 'Area Code (M49)'], columns='Item', values='Value').reset_index() # Pivot the fertilizers use data to get the different fertilizers as columns\n",
    "fertilizers_pivot.columns = [f\"{col} Use (in tonnes)\" if col != 'Year' and col != 'Area' and col != 'Area Code (M49)' else col for col in fertilizers_pivot.columns] # Rename the columns based on the fertilizer type\n",
    "merged_df = pd.merge(merged_df, fertilizers_pivot, how='inner', on=['Year', 'Area', 'Area Code (M49)'])\n",
    "# Fills the missing values in the fertilizers use columns with 0\n",
    "merged_df.fillna(0, inplace=True)\n",
    "\n",
    "# Merge with exchange rate and clean the merged dataset\n",
    "merged_df = pd.merge(merged_df, exchange_rate, how='inner', on=['Year', 'Area', 'Area Code (M49)'])\n",
    "merged_df = merged_df.rename(columns={'Value': 'Mean Exchange Rate (in local currency per USD)'})\n",
    "\n",
    "# Merge with food trade imports and clean the merged dataset\n",
    "merged_df = pd.merge(merged_df, food_trade_imports, how='inner', on=['Harmonised Item', 'Year', 'Area', 'Area Code (M49)', ])\n",
    "merged_df = merged_df.rename(columns={'Value': 'Import Values (in 1000 USD)'})\n",
    "merged_df = merged_df.drop(columns = ['Domain Code', 'Domain', 'Element Code', 'Unit', 'Flag', 'Flag Description', 'Year Code', 'Element', 'Item Code (CPC)'])\n"
   ],
   "id": "62817908b919d54a",
   "outputs": [],
   "execution_count": null
  },
  {
   "metadata": {},
   "cell_type": "markdown",
   "source": [
    "# Feature Engineering\n",
    "\n",
    "Create new features from existing ones to provide more information to the model."
   ],
   "id": "7b7a1c6aad191d99"
  },
  {
   "metadata": {
    "ExecuteTime": {
     "start_time": "2024-04-23T15:54:41.256132300Z"
    }
   },
   "cell_type": "code",
   "source": [
    "# Create a new feature for the total emissions\n",
    "merged_df['Total Emissions (in kt)'] = merged_df['Total N2O Emissions (in kt)'] + merged_df['Total CH4 Emissions (in kt)']\n",
    "\n",
    "# Create a new feature for percentage of agricultural land\n",
    "merged_df['Percentage of Agricultural Land (%)'] = (merged_df['Agricultural Land (in 1000 ha)'] / merged_df['Country Area (in 1000 ha)']) * 100\n",
    "\n",
    "# Create a new feature for the total land area\n",
    "merged_df['Total Land Area (in 1000 ha)'] = merged_df['Agricultural Land (in 1000 ha)'] + merged_df['Cropland (in 1000 ha)'] + merged_df['Arable Land (in 1000 ha)'] + merged_df['Temporary Crops (in 1000 ha)']\n",
    "\n",
    "# Create a new feature for the total fertilizers use by summing the different fertilizers\n",
    "merged_df['Total Fertilizers Use (in tonnes)'] = merged_df.iloc[:, 18:41].sum(axis=1)\n",
    "\n",
    "# Create a new feature for fertilizers use per hectare\n",
    "merged_df['Fertilizers Use per Hectare (in kg/ha)'] = merged_df['Total Fertilizers Use (in tonnes)'] / merged_df['Total Land Area (in 1000 ha)']\n",
    "\n",
    "# Create a new feature for the total working hours\n",
    "merged_df['Total Working Hours (in hours)'] = merged_df['Mean Working Hours (in hours)'] * merged_df['ILO Estimates (in 1000 No)']\n",
    "\n",
    "# Create a new feature for export value in local currency\n",
    "merged_df['Export Values (in local currency)'] = merged_df['Export Values (in 1000 USD)'] * merged_df['Mean Exchange Rate (in local currency per USD)']\n",
    "\n",
    "# Create a new feature for import value in local currency\n",
    "merged_df['Import Values (in local currency)'] = merged_df['Import Values (in 1000 USD)'] * merged_df['Mean Exchange Rate (in local currency per USD)']\n",
    "\n"
   ],
   "id": "7bf6d0c957d8b60f",
   "outputs": [],
   "execution_count": null
  },
  {
   "metadata": {},
   "cell_type": "markdown",
   "source": [
    "## Exploring the Data\n",
    "\n",
    "Explore the data by visualizing the relationships between the different features."
   ],
   "id": "5d845d7e35ee9c5c"
  },
  {
   "metadata": {
    "ExecuteTime": {
     "start_time": "2024-04-23T15:54:41.260130Z"
    }
   },
   "cell_type": "code",
   "source": [
    "albania_df = merged_df[(merged_df['Area'] == 'Albania') & (merged_df['Harmonised Item'] == 'Cereals and Grains')]\n",
    "# Plot the yield of crops vs the total emissions of N2O and CH4\n",
    "plt.figure(figsize=(10, 6))\n",
    "plt.scatter(albania_df['Total Fertilizers Use (in tonnes)'], albania_df['Export Values (in 1000 USD)'], color='blue', alpha=0.5)\n",
    "plt.title('Export Values vs Total Fertilizers Use for Cereals and Grains in Albania')\n",
    "plt.ylabel('Export Values (in 1000 USD)')\n",
    "plt.xlabel('Total Fertilizers Us (in tonnes)')\n",
    "plt.grid(True)\n",
    "# Plot a line of best fit\n",
    "plt.plot(np.unique(albania_df['Total Fertilizers Use (in tonnes)']), np.poly1d(np.polyfit(albania_df['Total Fertilizers Use (in tonnes)'],  albania_df['Export Values (in 1000 USD)'], 1))(np.unique(albania_df['Total Fertilizers Use (in tonnes)'])))\n",
    "plt.show()\n",
    "\n",
    "# Plotting the correlation matrix of the numerical columns\n",
    "numerical_columns = merged_df.select_dtypes(include=[np.number]).columns.tolist()\n",
    "\n",
    "# Calculate the correlation matrix for numerical columns only\n",
    "correlation_matrix = merged_df[numerical_columns].corr()\n",
    "\n",
    "# Plotting the correlation matrix\n",
    "plt.figure(figsize=(20, 20))\n",
    "plt.matshow(correlation_matrix, cmap='coolwarm', fignum=1)\n",
    "plt.colorbar()\n",
    "plt.xticks(range(len(correlation_matrix.columns)), correlation_matrix.columns, rotation='vertical')\n",
    "plt.yticks(range(len(correlation_matrix.columns)), correlation_matrix.columns)\n",
    "plt.title('Correlation Matrix of the Merged Dataset')\n",
    "plt.show()"
   ],
   "id": "d729a83daecdec19",
   "outputs": [],
   "execution_count": null
  },
  {
   "metadata": {
    "ExecuteTime": {
     "end_time": "2024-04-23T15:54:41.356658Z",
     "start_time": "2024-04-23T15:54:41.263129300Z"
    }
   },
   "cell_type": "code",
   "source": [
    "# Define a threshold for \"strong\" correlation\n",
    "threshold = 0.3\n",
    "\n",
    "# Select the 'crop_yield' row or column in the correlation matrix\n",
    "export_value_correlations = correlation_matrix['Export Values (in 1000 USD)']\n",
    "\n",
    "# Filter out strong correlations (ignoring the correlation of the variable with itself)\n",
    "strong_correlations = export_value_correlations[(export_value_correlations >= threshold) & (export_value_correlations.index != 'Export Values (in 1000 USD)')]\n",
    "\n",
    "# Print out the results\n",
    "for index, value in strong_correlations.items():\n",
    "    if index != 'Export Values (in 1000 USD)':  # Exclude the correlation of 'export values' with itself\n",
    "        print(f\"'Export Values' and '{index}' have a correlation of {value:.2f}\")"
   ],
   "id": "ac6910470bae5017",
   "outputs": [],
   "execution_count": null
  },
  {
   "metadata": {
    "ExecuteTime": {
     "start_time": "2024-04-23T15:54:41.266128300Z"
    }
   },
   "cell_type": "code",
   "source": [
    "# Train a linear regression model to predict 'Export Values' using 'Total Fertilizers Use' as the feature\n",
    "from sklearn.linear_model import LinearRegression\n",
    "from sklearn.model_selection import train_test_split\n",
    "from sklearn.metrics import mean_squared_error\n",
    "\n",
    "filtered_df = merged_df[merged_df['Area'] == 'Albania']\n",
    "# Define the feature and target variables\n",
    "X = filtered_df[['Total Fertilizers Use (in tonnes)', 'Temperature Change (in °C)', 'Total Working Hours (in hours)', 'Total Pesticides Use (in tonnes)']]\n",
    "y = filtered_df['Export Values (in 1000 USD)']\n",
    "\n",
    "# Split the data into training and testing sets\n",
    "X_train, X_test, y_train, y_test = train_test_split(X, y, test_size=0.2, random_state=42)\n",
    "\n",
    "# Train the linear regression model\n",
    "model = LinearRegression()\n",
    "model.fit(X_train, y_train)\n",
    "\n",
    "# Make predictions\n",
    "y_pred = model.predict(X_test)\n",
    "\n",
    "# Calculate the mean squared error as a measure of the model's performance\n",
    "mse = mean_squared_error(y_test, y_pred)\n",
    "print(f\"Mean Squared Error: {mse:.2f}\")\n",
    "\n",
    "# Print the model's coefficients\n",
    "print(f\"Coefficient: {model.coef_[0]:.2f}\")\n",
    "print(f\"Intercept: {model.intercept_:.2f}\")\n",
    "\n",
    "\n",
    "plt.figure(figsize=(10, 6))\n",
    "plt.scatter(X_test['Total Fertilizers Use (in tonnes)'], y_test, color='blue', alpha=0.5)\n",
    "plt.plot(X_test['Total Fertilizers Use (in tonnes)'].sort_values(), y_pred[X_test['Total Fertilizers Use (in tonnes)'].argsort()], color='red', linewidth=2)\n",
    "plt.title('Linear Regression of Export Values vs Total Fertilizers Use')\n",
    "plt.ylabel('Export Values (in 1000 USD)')\n",
    "plt.xlabel('Total Fertilizers Use (in tonnes)')\n",
    "plt.grid(True)\n",
    "plt.show()"
   ],
   "id": "74555c4685c9d7dd",
   "outputs": [],
   "execution_count": null
  },
  {
   "metadata": {},
   "cell_type": "markdown",
   "source": [
    "\n"
   ],
   "id": "4ef9d1b3c3e22b7a"
  }
 ],
 "metadata": {
  "kernelspec": {
   "display_name": "Python 3 (ipykernel)",
   "language": "python",
   "name": "python3"
  },
  "language_info": {
   "codemirror_mode": {
    "name": "ipython",
    "version": 3
   },
   "file_extension": ".py",
   "mimetype": "text/x-python",
   "name": "python",
   "nbconvert_exporter": "python",
   "pygments_lexer": "ipython3",
   "version": "3.12.0"
  }
 },
 "nbformat": 4,
 "nbformat_minor": 5
}
